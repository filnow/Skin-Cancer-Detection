{
 "cells": [
  {
   "cell_type": "code",
   "execution_count": 1,
   "metadata": {},
   "outputs": [
    {
     "name": "stdout",
     "output_type": "stream",
     "text": [
      "env: \"WANDB_NOTEBOOK_NAME\"=\"experiments.ipynb\"\n"
     ]
    }
   ],
   "source": [
    "import gc\n",
    "import torch\n",
    "import wandb\n",
    "import torch.nn.functional as F\n",
    "\n",
    "from torch import nn\n",
    "from torchvision import transforms, datasets, models\n",
    "from torch.utils.data import DataLoader\n",
    "\n",
    "%matplotlib inline\n",
    "%env \"WANDB_NOTEBOOK_NAME\" \"experiments.ipynb\""
   ]
  },
  {
   "cell_type": "code",
   "execution_count": 2,
   "metadata": {},
   "outputs": [
    {
     "data": {
      "text/plain": [
       "device(type='cuda')"
      ]
     },
     "execution_count": 2,
     "metadata": {},
     "output_type": "execute_result"
    }
   ],
   "source": [
    "device = torch.device(\"cuda\" if torch.cuda.is_available() else \"cpu\")\n",
    "device"
   ]
  },
  {
   "cell_type": "code",
   "execution_count": 3,
   "metadata": {},
   "outputs": [],
   "source": [
    "IMG_SIZE = 224\n",
    "BATCH_SIZE = 32\n",
    "IMG_SHOW_NUM = 6\n",
    "EPOCHS = 20\n",
    "LEARNING_RATE = 0.001"
   ]
  },
  {
   "cell_type": "code",
   "execution_count": 4,
   "metadata": {},
   "outputs": [
    {
     "name": "stderr",
     "output_type": "stream",
     "text": [
      "Failed to detect the name of this notebook, you can set it manually with the WANDB_NOTEBOOK_NAME environment variable to enable code saving.\n",
      "\u001b[34m\u001b[1mwandb\u001b[0m: Currently logged in as: \u001b[33mfilnow\u001b[0m (\u001b[33mfilnow42\u001b[0m). Use \u001b[1m`wandb login --relogin`\u001b[0m to force relogin\n"
     ]
    },
    {
     "data": {
      "text/html": [
       "Tracking run with wandb version 0.16.6"
      ],
      "text/plain": [
       "<IPython.core.display.HTML object>"
      ]
     },
     "metadata": {},
     "output_type": "display_data"
    },
    {
     "data": {
      "text/html": [
       "Run data is saved locally in <code>j:\\Desktop\\mykaggle\\skincancer\\wandb\\run-20240430_124103-l34is3xb</code>"
      ],
      "text/plain": [
       "<IPython.core.display.HTML object>"
      ]
     },
     "metadata": {},
     "output_type": "display_data"
    },
    {
     "data": {
      "text/html": [
       "Syncing run <strong><a href='https://wandb.ai/filnow42/skin-cancer/runs/l34is3xb' target=\"_blank\">summer-elevator-13</a></strong> to <a href='https://wandb.ai/filnow42/skin-cancer' target=\"_blank\">Weights & Biases</a> (<a href='https://wandb.me/run' target=\"_blank\">docs</a>)<br/>"
      ],
      "text/plain": [
       "<IPython.core.display.HTML object>"
      ]
     },
     "metadata": {},
     "output_type": "display_data"
    },
    {
     "data": {
      "text/html": [
       " View project at <a href='https://wandb.ai/filnow42/skin-cancer' target=\"_blank\">https://wandb.ai/filnow42/skin-cancer</a>"
      ],
      "text/plain": [
       "<IPython.core.display.HTML object>"
      ]
     },
     "metadata": {},
     "output_type": "display_data"
    },
    {
     "data": {
      "text/html": [
       " View run at <a href='https://wandb.ai/filnow42/skin-cancer/runs/l34is3xb' target=\"_blank\">https://wandb.ai/filnow42/skin-cancer/runs/l34is3xb</a>"
      ],
      "text/plain": [
       "<IPython.core.display.HTML object>"
      ]
     },
     "metadata": {},
     "output_type": "display_data"
    },
    {
     "data": {
      "text/html": [
       "<button onClick=\"this.nextSibling.style.display='block';this.style.display='none';\">Display W&B run</button><iframe src='https://wandb.ai/filnow42/skin-cancer/runs/l34is3xb?jupyter=true' style='border:none;width:100%;height:420px;display:none;'></iframe>"
      ],
      "text/plain": [
       "<wandb.sdk.wandb_run.Run at 0x1e8f773b7c0>"
      ]
     },
     "execution_count": 4,
     "metadata": {},
     "output_type": "execute_result"
    }
   ],
   "source": [
    "wandb.init(\n",
    "    project=\"skin-cancer\",\n",
    "\n",
    "    config={\n",
    "    \"learning_rate\": LEARNING_RATE,\n",
    "    \"architecture\": \"CUSTOM CNN\",\n",
    "    \"dataset\": \"SKIN-CANCER\",\n",
    "    \"epochs\": EPOCHS,\n",
    "    \"batch_size\": BATCH_SIZE\n",
    "    }\n",
    ")"
   ]
  },
  {
   "cell_type": "code",
   "execution_count": 5,
   "metadata": {},
   "outputs": [],
   "source": [
    "transformer = transforms.Compose([\n",
    "    transforms.Resize(size = (IMG_SIZE, IMG_SIZE), antialias = True),\n",
    "    transforms.CenterCrop(IMG_SIZE),\n",
    "    transforms.ToTensor(),\n",
    "    transforms.Normalize(mean = [0.485, 0.456, 0.406], std = [0.229, 0.224, 0.225]),\n",
    "])\n",
    "\n",
    "testTransformer = transforms.Compose([\n",
    "    transforms.Resize(size = (IMG_SIZE, IMG_SIZE), antialias = True),\n",
    "    transforms.ToTensor(),\n",
    "    transforms.Normalize(mean = [0.485, 0.456, 0.406], std = [0.229, 0.224, 0.225]),\n",
    "])"
   ]
  },
  {
   "cell_type": "code",
   "execution_count": 6,
   "metadata": {},
   "outputs": [],
   "source": [
    "trainData = datasets.ImageFolder(root = \"./train\", transform = transformer)\n",
    "testSet = datasets.ImageFolder(root = \"./test\", transform = testTransformer)\n",
    "\n",
    "trainSet, valSet = torch.utils.data.random_split(trainData, [int(0.8 * len(trainData)), len(trainData) - int(0.8 * len(trainData))])"
   ]
  },
  {
   "cell_type": "code",
   "execution_count": 7,
   "metadata": {},
   "outputs": [],
   "source": [
    "trainLoader = DataLoader(trainSet, batch_size = BATCH_SIZE, shuffle=True)\n",
    "valLoader = DataLoader(valSet, batch_size=BATCH_SIZE, shuffle=True)\n",
    "testLoader = DataLoader(testSet, batch_size = BATCH_SIZE, shuffle = False)"
   ]
  },
  {
   "cell_type": "code",
   "execution_count": 8,
   "metadata": {},
   "outputs": [
    {
     "name": "stdout",
     "output_type": "stream",
     "text": [
      "Train:  2109\n",
      "Validation:  528\n",
      "Test:  660\n"
     ]
    }
   ],
   "source": [
    "print('Train: ', len(trainSet))\n",
    "print('Validation: ', len(valSet))\n",
    "print('Test: ', len(testSet))"
   ]
  },
  {
   "cell_type": "code",
   "execution_count": 9,
   "metadata": {},
   "outputs": [],
   "source": [
    "def to_device(data, device):\n",
    "    if isinstance(data, (list,tuple)):\n",
    "        return [to_device(x, device) for x in data]\n",
    "    return data.to(device, non_blocking=True)"
   ]
  },
  {
   "cell_type": "code",
   "execution_count": 10,
   "metadata": {},
   "outputs": [],
   "source": [
    "class DeviceDataLoader():\n",
    "    def __init__(self, dl, device):\n",
    "        self.dl = dl\n",
    "        self.device = device\n",
    "        \n",
    "    def __iter__(self):\n",
    "        for b in self.dl: \n",
    "            yield to_device(b, self.device)\n",
    "\n",
    "    def __len__(self):\n",
    "        return len(self.dl)"
   ]
  },
  {
   "cell_type": "code",
   "execution_count": 11,
   "metadata": {},
   "outputs": [],
   "source": [
    "train_loader = DeviceDataLoader(trainLoader, device)\n",
    "val_loader = DeviceDataLoader(valLoader, device)\n",
    "test_loader = DeviceDataLoader(testLoader, device)"
   ]
  },
  {
   "cell_type": "code",
   "execution_count": 13,
   "metadata": {},
   "outputs": [],
   "source": [
    "patience = 5\n",
    "minDelta = 0.01\n",
    "currentPatience = 0\n",
    "bestLoss = float(\"inf\")"
   ]
  },
  {
   "cell_type": "code",
   "execution_count": 14,
   "metadata": {},
   "outputs": [
    {
     "name": "stdout",
     "output_type": "stream",
     "text": [
      "\n",
      "EPOCH 1\n",
      "\n",
      "Batch 0 Loss train: 0.067\n",
      "Batch 10 Loss train: 0.454\n",
      "Batch 20 Loss train: 0.367\n",
      "Batch 30 Loss train: 0.345\n",
      "Batch 40 Loss train: 0.257\n",
      "Batch 50 Loss train: 0.298\n",
      "Batch 60 Loss train: 0.331\n",
      "Loss train 0.348, loss valid 0.332\n",
      "Accuracy train 83.78%, accuracy valid 83.14%\n",
      "\n",
      "EPOCH 2\n",
      "\n",
      "Batch 0 Loss train: 0.045\n",
      "Batch 10 Loss train: 0.208\n",
      "Batch 20 Loss train: 0.263\n",
      "Batch 30 Loss train: 0.237\n",
      "Batch 40 Loss train: 0.201\n",
      "Batch 50 Loss train: 0.214\n",
      "Batch 60 Loss train: 0.297\n",
      "Loss train 0.240, loss valid 0.321\n",
      "Accuracy train 89.76%, accuracy valid 86.17%\n",
      "\n",
      "EPOCH 3\n",
      "\n",
      "Batch 0 Loss train: 0.017\n",
      "Batch 10 Loss train: 0.137\n",
      "Batch 20 Loss train: 0.207\n",
      "Batch 30 Loss train: 0.191\n",
      "Batch 40 Loss train: 0.289\n",
      "Batch 50 Loss train: 0.205\n",
      "Batch 60 Loss train: 0.250\n",
      "Loss train 0.220, loss valid 0.307\n",
      "Accuracy train 91.42%, accuracy valid 86.93%\n",
      "\n",
      "EPOCH 4\n",
      "\n",
      "Batch 0 Loss train: 0.012\n",
      "Batch 10 Loss train: 0.151\n",
      "Batch 20 Loss train: 0.181\n",
      "Batch 30 Loss train: 0.141\n",
      "Batch 40 Loss train: 0.160\n",
      "Batch 50 Loss train: 0.171\n",
      "Batch 60 Loss train: 0.167\n",
      "Loss train 0.166, loss valid 0.414\n",
      "Accuracy train 93.36%, accuracy valid 86.17%\n",
      "\n",
      "EPOCH 5\n",
      "\n",
      "Batch 0 Loss train: 0.009\n",
      "Batch 10 Loss train: 0.193\n",
      "Batch 20 Loss train: 0.096\n",
      "Batch 30 Loss train: 0.127\n",
      "Batch 40 Loss train: 0.105\n",
      "Batch 50 Loss train: 0.150\n",
      "Batch 60 Loss train: 0.188\n",
      "Loss train 0.149, loss valid 0.349\n",
      "Accuracy train 94.31%, accuracy valid 86.36%\n",
      "\n",
      "EPOCH 6\n",
      "\n",
      "Batch 0 Loss train: 0.011\n",
      "Batch 10 Loss train: 0.159\n",
      "Batch 20 Loss train: 0.080\n",
      "Batch 30 Loss train: 0.076\n",
      "Batch 40 Loss train: 0.171\n",
      "Batch 50 Loss train: 0.151\n",
      "Batch 60 Loss train: 0.126\n",
      "Loss train 0.128, loss valid 0.336\n",
      "Accuracy train 95.31%, accuracy valid 86.55%\n",
      "\n",
      "EPOCH 7\n",
      "\n",
      "Batch 0 Loss train: 0.008\n",
      "Batch 10 Loss train: 0.092\n",
      "Batch 20 Loss train: 0.081\n",
      "Batch 30 Loss train: 0.063\n",
      "Batch 40 Loss train: 0.100\n",
      "Batch 50 Loss train: 0.142\n",
      "Batch 60 Loss train: 0.059\n",
      "Loss train 0.092, loss valid 0.603\n",
      "Accuracy train 96.73%, accuracy valid 86.74%\n",
      "Epoch 00007: reducing learning rate of group 0 to 1.0000e-04.\n",
      "\n",
      "EPOCH 8\n",
      "\n",
      "Batch 0 Loss train: 0.009\n",
      "Batch 10 Loss train: 0.070\n",
      "Batch 20 Loss train: 0.049\n",
      "Batch 30 Loss train: 0.062\n",
      "Batch 40 Loss train: 0.068\n",
      "Batch 50 Loss train: 0.022\n",
      "Batch 60 Loss train: 0.021\n",
      "Loss train 0.049, loss valid 0.363\n",
      "Accuracy train 98.53%, accuracy valid 88.07%\n",
      "EARLY STOPPING\n"
     ]
    },
    {
     "data": {
      "application/vnd.jupyter.widget-view+json": {
       "model_id": "feb6ab4a4bce48a6a105eb7f348ed5be",
       "version_major": 2,
       "version_minor": 0
      },
      "text/plain": [
       "VBox(children=(Label(value='0.001 MB of 0.001 MB uploaded\\r'), FloatProgress(value=1.0, max=1.0)))"
      ]
     },
     "metadata": {},
     "output_type": "display_data"
    },
    {
     "data": {
      "text/html": [
       "<style>\n",
       "    table.wandb td:nth-child(1) { padding: 0 10px; text-align: left ; width: auto;} td:nth-child(2) {text-align: left ; width: 100%}\n",
       "    .wandb-row { display: flex; flex-direction: row; flex-wrap: wrap; justify-content: flex-start; width: 100% }\n",
       "    .wandb-col { display: flex; flex-direction: column; flex-basis: 100%; flex: 1; padding: 10px; }\n",
       "    </style>\n",
       "<div class=\"wandb-row\"><div class=\"wandb-col\"><h3>Run history:</h3><br/><table class=\"wandb\"><tr><td>train/acc</td><td>▁▄▅▆▆▆▇█</td></tr><tr><td>train/loss</td><td>█▅▅▄▃▃▂▁</td></tr><tr><td>val/acc</td><td>▁▅▆▅▆▆▆█</td></tr><tr><td>val/loss</td><td>▂▁▁▄▂▂█▂</td></tr></table><br/></div><div class=\"wandb-col\"><h3>Run summary:</h3><br/><table class=\"wandb\"><tr><td>train/acc</td><td>0.9853</td></tr><tr><td>train/loss</td><td>0.04908</td></tr><tr><td>val/acc</td><td>0.88068</td></tr><tr><td>val/loss</td><td>0.36271</td></tr></table><br/></div></div>"
      ],
      "text/plain": [
       "<IPython.core.display.HTML object>"
      ]
     },
     "metadata": {},
     "output_type": "display_data"
    },
    {
     "data": {
      "text/html": [
       " View run <strong style=\"color:#cdcd00\">summer-elevator-13</strong> at: <a href='https://wandb.ai/filnow42/skin-cancer/runs/l34is3xb' target=\"_blank\">https://wandb.ai/filnow42/skin-cancer/runs/l34is3xb</a><br/> View project at: <a href='https://wandb.ai/filnow42/skin-cancer' target=\"_blank\">https://wandb.ai/filnow42/skin-cancer</a><br/>Synced 5 W&B file(s), 0 media file(s), 0 artifact file(s) and 0 other file(s)"
      ],
      "text/plain": [
       "<IPython.core.display.HTML object>"
      ]
     },
     "metadata": {},
     "output_type": "display_data"
    },
    {
     "data": {
      "text/html": [
       "Find logs at: <code>.\\wandb\\run-20240430_124103-l34is3xb\\logs</code>"
      ],
      "text/plain": [
       "<IPython.core.display.HTML object>"
      ]
     },
     "metadata": {},
     "output_type": "display_data"
    }
   ],
   "source": [
    "model = models.efficientnet_b0(weights=models.EfficientNet_B0_Weights.IMAGENET1K_V1)\n",
    "model.classifier[1] = nn.Linear(model.classifier[1].in_features, 2)\n",
    "\n",
    "wandb.watch(model, log_freq=100)\n",
    "\n",
    "to_device(model, device)\n",
    "\n",
    "criterion= nn.CrossEntropyLoss()\n",
    "optimizer = torch.optim.Adam(model.parameters(), lr=LEARNING_RATE)\n",
    "scheduler = torch.optim.lr_scheduler.ReduceLROnPlateau(optimizer, threshold=0.01, factor=0.1, patience=3, min_lr=1e-5, verbose=True)\n",
    "\n",
    "for epoch in range(EPOCHS): \n",
    "    print()\n",
    "    print(f'EPOCH {epoch+1}') \n",
    "    print()\n",
    "\n",
    "    model.train(True)\n",
    "\n",
    "    running_loss, last_loss, avg_loss = 0., 0., 0.\n",
    "    train_correct, train_total = 0, 0\n",
    "    \n",
    "    for i, data in enumerate(train_loader):\n",
    "        input, label = data\n",
    "        optimizer.zero_grad()\n",
    "\n",
    "        outputs = model(input)\n",
    "        loss = criterion(outputs, label)\n",
    "\n",
    "        loss.backward()\n",
    "        optimizer.step()\n",
    "\n",
    "        running_loss += loss.item()\n",
    "        avg_loss += loss.item()\n",
    "\n",
    "        if i % 10 == 0:\n",
    "            last_loss = running_loss / 10\n",
    "            print(f'Batch {i} Loss train: {last_loss:.3f}')\n",
    "            running_loss = 0.\n",
    "        \n",
    "        _, predicted = torch.max(outputs.data, 1)\n",
    "        train_total += label.size(0)\n",
    "        train_correct += (predicted == label).sum().item()\n",
    "\n",
    "        torch.cuda.empty_cache()\n",
    "        _ = gc.collect()\n",
    "        \n",
    "\n",
    "    avg_loss /= int(len(trainSet)/BATCH_SIZE)\n",
    "    \n",
    "    running_vloss = 0.\n",
    "    \n",
    "    model.eval()\n",
    "\n",
    "    val_correct, val_total = 0, 0\n",
    "\n",
    "    with torch.no_grad():\n",
    "        for i, val_data in enumerate(val_loader):\n",
    "            val_input, val_label = val_data\n",
    "            val_output = model(val_input)\n",
    "            val_loss = criterion(val_output, val_label)\n",
    "            running_vloss += val_loss.item()\n",
    "\n",
    "            _, vpredicted = torch.max(val_output.data, 1)\n",
    "            val_total += val_label.size(0)\n",
    "            val_correct += (vpredicted == val_label).sum().item()\n",
    "\n",
    "    avg_vloss = running_vloss / (i + 1)\n",
    "\n",
    "    train_accuracy = train_correct / train_total\n",
    "    val_accuracy = val_correct / val_total\n",
    "\n",
    "    wandb.log({\"train/loss\": avg_loss, \"train/acc\": train_accuracy,\n",
    "               \"val/loss\": avg_vloss, \"val/acc\": val_accuracy})\n",
    "\n",
    "    print(f'Loss train {avg_loss:.3f}, loss valid {avg_vloss:.3f}')\n",
    "    print(f'Accuracy train {train_accuracy:.2%}, accuracy valid {val_accuracy:.2%}')\n",
    "\n",
    "    if avg_vloss < bestLoss - minDelta:\n",
    "        bestLoss = avg_vloss\n",
    "        currentPatience = 0\n",
    "    else:\n",
    "        currentPatience += 1\n",
    "        if currentPatience >= patience:\n",
    "            print(\"EARLY STOPPING\")\n",
    "            break\n",
    "    \n",
    "    scheduler.step(avg_vloss)\n",
    "\n",
    "wandb.finish()"
   ]
  },
  {
   "cell_type": "code",
   "execution_count": 15,
   "metadata": {},
   "outputs": [
    {
     "name": "stdout",
     "output_type": "stream",
     "text": [
      "Accuracy test 91.67%\n"
     ]
    }
   ],
   "source": [
    "model.eval()\n",
    "\n",
    "test_correct, test_total = 0, 0\n",
    "\n",
    "with torch.no_grad():\n",
    "    for i, data in enumerate(test_loader):\n",
    "        inputs, labels = data\n",
    "        outputs = model(inputs)\n",
    "        _, predicted = torch.max(outputs.data, 1)\n",
    "        test_total += labels.size(0)\n",
    "        test_correct += (predicted == labels).sum().item()\n",
    "\n",
    "test_accuracy = test_correct / test_total\n",
    "\n",
    "print(f'Accuracy test {test_accuracy:.2%}')"
   ]
  }
 ],
 "metadata": {
  "kernelspec": {
   "display_name": "dl",
   "language": "python",
   "name": "python3"
  },
  "language_info": {
   "codemirror_mode": {
    "name": "ipython",
    "version": 3
   },
   "file_extension": ".py",
   "mimetype": "text/x-python",
   "name": "python",
   "nbconvert_exporter": "python",
   "pygments_lexer": "ipython3",
   "version": "3.10.11"
  }
 },
 "nbformat": 4,
 "nbformat_minor": 2
}
